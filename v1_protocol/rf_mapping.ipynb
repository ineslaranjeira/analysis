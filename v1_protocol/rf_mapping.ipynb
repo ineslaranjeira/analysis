{
 "cells": [
  {
   "cell_type": "code",
   "execution_count": 15,
   "metadata": {},
   "outputs": [],
   "source": [
    "from pathlib import Path\n",
    "import os\n",
    "import pickle\n",
    "import glob\n",
    "import numpy as np\n",
    "import seaborn as sns\n",
    "import matplotlib.pyplot as plt\n",
    "\n",
    "from oneibl.one import ONE\n",
    "import alf.io as ioalf\n",
    "\n",
    "import sys\n",
    "sys.path.insert(0, '/home/mattw/Dropbox/github/int-brain-lab/analysis')\n",
    "from v1_protocol.rf_mapping import compute_rfs\n",
    "from v1_protocol.rf_mapping import find_peak_responses\n",
    "from v1_protocol.rf_mapping import interpolate_rfs\n",
    "from v1_protocol.rf_mapping import find_contiguous_pixels\n",
    "from v1_protocol.rf_mapping import plot_rf_distributions\n",
    "# from iblscripts.certification_pipeline import extract_stimulus_info\n",
    "# from iblscripts.certification_pipeline import get_stim_num_from_name"
   ]
  },
  {
   "cell_type": "code",
   "execution_count": 2,
   "metadata": {},
   "outputs": [],
   "source": [
    "sns.set_style('white')\n",
    "sns.set_context('talk')"
   ]
  },
  {
   "cell_type": "markdown",
   "metadata": {},
   "source": [
    "### 0. load data"
   ]
  },
  {
   "cell_type": "code",
   "execution_count": 16,
   "metadata": {},
   "outputs": [
    {
     "name": "stdout",
     "output_type": "stream",
     "text": [
      "Connected to https://alyx.internationalbrainlab.org as matt.whiteway\n"
     ]
    },
    {
     "name": "stderr",
     "output_type": "stream",
     "text": [
      "\u001b[36m2019-08-20 17:29:58.193 INFO     [webclient.py:81] Downloading: /media/mattw/data/ibl/mainenlab/Subjects/ZM_1887/2019-07-19/001/alf/clusters.peakChannel.bdc4f022-f78b-44cf-ae9c-9e46bfc2d2b5.npy Bytes: 2752\u001b[0m\n",
      "\u001b[36m2019-08-20 17:29:58.197 INFO     [webclient.py:92]       2752  [100.00%]\u001b[0m\n",
      "\u001b[36m2019-08-20 17:29:58.235 INFO     [webclient.py:81] Downloading: /media/mattw/data/ibl/mainenlab/Subjects/ZM_1887/2019-07-19/001/alf/channels.rawRow.01ffdc80-d679-491a-b2f3-93a92820cf88.npy Bytes: 1624\u001b[0m\n",
      "\u001b[36m2019-08-20 17:29:58.238 INFO     [webclient.py:92]       1624  [100.00%]\u001b[0m\n",
      "\u001b[36m2019-08-20 17:29:58.293 INFO     [webclient.py:81] Downloading: /media/mattw/data/ibl/mainenlab/Subjects/ZM_1887/2019-07-19/001/alf/clusters.waveformDuration.e8a5306a-215f-41e6-a8a6-b12535c66c9c.npy Bytes: 860800\u001b[0m\n",
      "\u001b[36m2019-08-20 17:29:58.334 INFO     [webclient.py:92]     860800  [100.00%]\u001b[0m\n",
      "\u001b[36m2019-08-20 17:29:58.382 INFO     [webclient.py:81] Downloading: /media/mattw/data/ibl/mainenlab/Subjects/ZM_1887/2019-07-19/001/alf/clusters.depths.d5243ea4-5f81-4978-84ef-fdf8366d5a42.npy Bytes: 2752\u001b[0m\n",
      "\u001b[36m2019-08-20 17:29:58.385 INFO     [webclient.py:92]       2752  [100.00%]\u001b[0m\n",
      "\u001b[36m2019-08-20 17:29:58.442 INFO     [webclient.py:81] Downloading: /media/mattw/data/ibl/mainenlab/Subjects/ZM_1887/2019-07-19/001/alf/spikes.times.a1be2232-0abb-4baf-b450-58a5e5a64579.npy Bytes: 40153624\u001b[0m\n",
      "\u001b[36m2019-08-20 17:29:58.617 INFO     [webclient.py:92]    4194304  [10.45%]\u001b[0m\n",
      "\u001b[36m2019-08-20 17:29:58.674 INFO     [webclient.py:92]    8388608  [20.89%]\u001b[0m\n",
      "\u001b[36m2019-08-20 17:29:58.719 INFO     [webclient.py:92]   12582912  [31.34%]\u001b[0m\n",
      "\u001b[36m2019-08-20 17:29:58.769 INFO     [webclient.py:92]   16777216  [41.78%]\u001b[0m\n",
      "\u001b[36m2019-08-20 17:29:58.811 INFO     [webclient.py:92]   20971520  [52.23%]\u001b[0m\n",
      "\u001b[36m2019-08-20 17:29:58.861 INFO     [webclient.py:92]   25165824  [62.67%]\u001b[0m\n",
      "\u001b[36m2019-08-20 17:29:58.903 INFO     [webclient.py:92]   29360128  [73.12%]\u001b[0m\n",
      "\u001b[36m2019-08-20 17:29:58.943 INFO     [webclient.py:92]   33554432  [83.57%]\u001b[0m\n",
      "\u001b[36m2019-08-20 17:29:58.983 INFO     [webclient.py:92]   37748736  [94.01%]\u001b[0m\n",
      "\u001b[36m2019-08-20 17:29:59.3 INFO     [webclient.py:92]   40153624  [100.00%]\u001b[0m\n",
      "\u001b[36m2019-08-20 17:29:59.97 INFO     [webclient.py:81] Downloading: /media/mattw/data/ibl/mainenlab/Subjects/ZM_1887/2019-07-19/001/alf/spikes.amps.51191ebd-4365-499b-9d58-6558ddd25f7c.npy Bytes: 40153624\u001b[0m\n",
      "\u001b[36m2019-08-20 17:29:59.219 INFO     [webclient.py:92]    4194304  [10.45%]\u001b[0m\n",
      "\u001b[36m2019-08-20 17:29:59.275 INFO     [webclient.py:92]    8388608  [20.89%]\u001b[0m\n",
      "\u001b[36m2019-08-20 17:29:59.320 INFO     [webclient.py:92]   12582912  [31.34%]\u001b[0m\n",
      "\u001b[36m2019-08-20 17:29:59.366 INFO     [webclient.py:92]   16777216  [41.78%]\u001b[0m\n",
      "\u001b[36m2019-08-20 17:29:59.408 INFO     [webclient.py:92]   20971520  [52.23%]\u001b[0m\n",
      "\u001b[36m2019-08-20 17:29:59.450 INFO     [webclient.py:92]   25165824  [62.67%]\u001b[0m\n",
      "\u001b[36m2019-08-20 17:29:59.498 INFO     [webclient.py:92]   29360128  [73.12%]\u001b[0m\n",
      "\u001b[36m2019-08-20 17:29:59.536 INFO     [webclient.py:92]   33554432  [83.57%]\u001b[0m\n",
      "\u001b[36m2019-08-20 17:29:59.577 INFO     [webclient.py:92]   37748736  [94.01%]\u001b[0m\n",
      "\u001b[36m2019-08-20 17:29:59.598 INFO     [webclient.py:92]   40153624  [100.00%]\u001b[0m\n",
      "\u001b[36m2019-08-20 17:29:59.627 INFO     [webclient.py:81] Downloading: /media/mattw/data/ibl/mainenlab/Subjects/ZM_1887/2019-07-19/001/alf/channels.sitePositions.e80cc4e0-c536-4d0c-b1f1-84c00e004baa.npy Bytes: 6064\u001b[0m\n",
      "\u001b[36m2019-08-20 17:29:59.629 INFO     [webclient.py:92]       6064  [100.00%]\u001b[0m\n",
      "\u001b[36m2019-08-20 17:29:59.658 INFO     [webclient.py:81] Downloading: /media/mattw/data/ibl/mainenlab/Subjects/ZM_1887/2019-07-19/001/alf/clusters.amps.748c8544-9837-430c-81c5-7e17d059a811.tsv Bytes: 5169\u001b[0m\n",
      "\u001b[36m2019-08-20 17:29:59.660 INFO     [webclient.py:92]       5169  [100.00%]\u001b[0m\n",
      "\u001b[36m2019-08-20 17:29:59.715 INFO     [webclient.py:81] Downloading: /media/mattw/data/ibl/mainenlab/Subjects/ZM_1887/2019-07-19/001/alf/spikes.depths.2785f390-1832-4f5d-ac8c-25e5cce70977.npy Bytes: 40153624\u001b[0m\n",
      "\u001b[36m2019-08-20 17:29:59.888 INFO     [webclient.py:92]    4194304  [10.45%]\u001b[0m\n",
      "\u001b[36m2019-08-20 17:29:59.942 INFO     [webclient.py:92]    8388608  [20.89%]\u001b[0m\n",
      "\u001b[36m2019-08-20 17:29:59.988 INFO     [webclient.py:92]   12582912  [31.34%]\u001b[0m\n",
      "\u001b[36m2019-08-20 17:30:00.40 INFO     [webclient.py:92]   16777216  [41.78%]\u001b[0m\n",
      "\u001b[36m2019-08-20 17:30:00.85 INFO     [webclient.py:92]   20971520  [52.23%]\u001b[0m\n",
      "\u001b[36m2019-08-20 17:30:00.127 INFO     [webclient.py:92]   25165824  [62.67%]\u001b[0m\n",
      "\u001b[36m2019-08-20 17:30:00.169 INFO     [webclient.py:92]   29360128  [73.12%]\u001b[0m\n",
      "\u001b[36m2019-08-20 17:30:00.211 INFO     [webclient.py:92]   33554432  [83.57%]\u001b[0m\n",
      "\u001b[36m2019-08-20 17:30:00.249 INFO     [webclient.py:92]   37748736  [94.01%]\u001b[0m\n",
      "\u001b[36m2019-08-20 17:30:00.271 INFO     [webclient.py:92]   40153624  [100.00%]\u001b[0m\n",
      "\u001b[36m2019-08-20 17:30:00.368 INFO     [webclient.py:81] Downloading: /media/mattw/data/ibl/mainenlab/Subjects/ZM_1887/2019-07-19/001/alf/spikes.clusters.7dfc1f83-a463-4750-8527-3628a98e898e.npy Bytes: 20076876\u001b[0m\n",
      "\u001b[36m2019-08-20 17:30:00.497 INFO     [webclient.py:92]    4194304  [20.89%]\u001b[0m\n",
      "\u001b[36m2019-08-20 17:30:00.554 INFO     [webclient.py:92]    8388608  [41.78%]\u001b[0m\n",
      "\u001b[36m2019-08-20 17:30:00.603 INFO     [webclient.py:92]   12582912  [62.67%]\u001b[0m\n",
      "\u001b[36m2019-08-20 17:30:00.654 INFO     [webclient.py:92]   16777216  [83.56%]\u001b[0m\n",
      "\u001b[36m2019-08-20 17:30:00.688 INFO     [webclient.py:92]   20076876  [100.00%]\u001b[0m\n"
     ]
    }
   ],
   "source": [
    "# get the data from flatiron and the current folder\n",
    "one = ONE()\n",
    "eid = one.search(subject='ZM_1887', date='2019-07-19', number=1)\n",
    "D = one.load(eid[0], clobber=False, download_only=True)\n",
    "session_path = Path(D.local_path[0]).parent\n",
    "# # load objects\n",
    "# spikes = ioalf.load_object(session_path, 'spikes')\n",
    "# clusters = ioalf.load_object(session_path, 'clusters')\n",
    "# channels = ioalf.load_object(session_path, 'channels')\n",
    "# trials = ioalf.load_object(session_path, '_ibl_trials')\n",
    "\n",
    "# get data stored locally\n",
    "# data_dir = '/home/mattw/data/ibl/ZM_1887-2019-07-10-001-probe-right'\n",
    "# data_dir = '/media/mattw/data/ibl/alex_test/'\n",
    "# spikes = np.load(glob.glob(os.path.join(data_dir, '*spikes.times*'))[0])\n",
    "# clusters = np.load(glob.glob(os.path.join(data_dir, '*spikes.clusters*'))[0])\n",
    "# rf_mapping_stim = stim_data[rf_idx]\n",
    "# rf_mapping_stim_times = stim_times[rf_idx]\n",
    "\n",
    "# get curated data stored locally\n",
    "# data_dir = '/home/mattw/data/ibl/ZM_1887-2019-07-10-001-probe-right'\n",
    "# spike_times = np.load(os.path.join(data_dir, 'extracted_npy', 'spikes.times.npy'))\n",
    "# spike_clusters = np.load(os.path.join(data_dir, 'extracted_npy', 'spikes.clusters.npy'))\n",
    "# stim_metadata_file = os.path.join(data_dir, 'extracted_npy', 'stim.metadata.pkl')\n",
    "# with open(stim_metadata_file, 'rb') as f:\n",
    "#     stim_metadata = pickle.load(f)\n",
    "# rf_mapping_stim = stim_metadata['stim_metadata'][2]\n",
    "# rf_mapping_stim_times = np.squeeze(stim_metadata['stim_times'][2])"
   ]
  },
  {
   "cell_type": "markdown",
   "metadata": {},
   "source": [
    "### 1. compute on/off receptive fields"
   ]
  },
  {
   "cell_type": "code",
   "execution_count": null,
   "metadata": {},
   "outputs": [],
   "source": [
    "# method in Durand et al 2016\n",
    "rfs = compute_rfs(\n",
    "    spike_times, spike_clusters, rf_mapping_stim_times, rf_mapping_stim, \n",
    "    lags=8, binsize=0.025)\n",
    "\n",
    "# reverse correlation method\n",
    "# rfs = compute_rfs_corr(\n",
    "#     spike_times, spike_clusters, rf_mapping_stim_times, rf_mapping_stim, \n",
    "#     lags=4, binsize=0.05)"
   ]
  },
  {
   "cell_type": "markdown",
   "metadata": {},
   "source": [
    "### 2. compute receptive field areas"
   ]
  },
  {
   "cell_type": "code",
   "execution_count": null,
   "metadata": {},
   "outputs": [],
   "source": [
    "# quotes from Durand et al 2016\n",
    "\n",
    "# \"the larger of the ON and OFF peak responses was taken to be the maximum\n",
    "# firing rate of the cell\"\n",
    "peaks = find_peak_responses(rfs)\n",
    "\n",
    "# \"the trial-averaged mean firing rates within the peak bins were then used\n",
    "# to estimate the sizes of the ON and OFF subfields...we interpolated each\n",
    "# subfield using a 2D bilinear interpolation.\"\n",
    "peaks_interp = interpolate_rfs(peaks, bin_scale=0.5)\n",
    "\n",
    "# \"All pixels in the interpolated grids that were <35% of the cell's\n",
    "# maximum firing rate were set to zero and a contiguous non-zero set of\n",
    "# pixels, including the peak pixel, were isolated\"\n",
    "rf_areas = find_contiguous_pixels(peaks_interp, threshold=0.35)"
   ]
  },
  {
   "cell_type": "markdown",
   "metadata": {},
   "source": [
    "### 3. plot results"
   ]
  },
  {
   "cell_type": "markdown",
   "metadata": {},
   "source": [
    "#### display single receptive field"
   ]
  },
  {
   "cell_type": "code",
   "execution_count": null,
   "metadata": {},
   "outputs": [],
   "source": [
    "n_rows = 1\n",
    "n_cols = 4\n",
    "i = 22\n",
    "sub = 'on'\n",
    "plt.figure(figsize=(3 * n_cols, 3 * n_rows))\n",
    "for j in range(n_rows * n_cols):\n",
    "    plt.subplot(n_rows, n_cols, j+1)\n",
    "    rf = rfs[sub][i][:, :, j]\n",
    "    plt.imshow(rf, cmap='gray')\n",
    "    plt.xticks([])\n",
    "    plt.yticks([])\n",
    "plt.show()"
   ]
  },
  {
   "cell_type": "markdown",
   "metadata": {},
   "source": [
    "#### display peak responses for multiple cells"
   ]
  },
  {
   "cell_type": "code",
   "execution_count": null,
   "metadata": {},
   "outputs": [],
   "source": [
    "i = 240  # starting cell id\n",
    "sub = 'off'  # 'on' | 'off'\n",
    "\n",
    "n_rows = 3\n",
    "n_cols = 5\n",
    "plt.figure(figsize=(2 * n_cols, 2 * n_rows))\n",
    "for j in range(n_rows * n_cols):\n",
    "    plt.subplot(n_rows, n_cols, j+1)\n",
    "    rf = np.copy(peaks_interp[sub][i+j])\n",
    "    max_rf = np.max([\n",
    "        np.max(peaks_interp['on'][i+j]),\n",
    "        np.max(peaks_interp['off'][i+j])])\n",
    "    rf[rf < max_rf * 0.35] = 0\n",
    "    plt.imshow(rf, cmap='gray')\n",
    "    plt.xticks([])\n",
    "    plt.yticks([])\n",
    "    plt.title('Cell %i' % (i+j))\n",
    "plt.tight_layout()\n",
    "plt.show()"
   ]
  },
  {
   "cell_type": "markdown",
   "metadata": {},
   "source": [
    "#### plot receptive field size distributions"
   ]
  },
  {
   "cell_type": "code",
   "execution_count": null,
   "metadata": {},
   "outputs": [],
   "source": [
    "splt = plot_rf_distributions(rf_areas, plot_type='box')"
   ]
  },
  {
   "cell_type": "code",
   "execution_count": null,
   "metadata": {},
   "outputs": [],
   "source": [
    "fig = plot_rf_distributions(rf_areas, plot_type='hist')"
   ]
  }
 ],
 "metadata": {
  "kernelspec": {
   "display_name": "iblenv",
   "language": "python",
   "name": "iblenv"
  },
  "language_info": {
   "codemirror_mode": {
    "name": "ipython",
    "version": 3
   },
   "file_extension": ".py",
   "mimetype": "text/x-python",
   "name": "python",
   "nbconvert_exporter": "python",
   "pygments_lexer": "ipython3",
   "version": "3.7.3"
  }
 },
 "nbformat": 4,
 "nbformat_minor": 2
}
