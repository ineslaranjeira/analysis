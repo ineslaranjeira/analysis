{
 "cells": [
  {
   "cell_type": "code",
   "execution_count": 21,
   "metadata": {},
   "outputs": [],
   "source": [
    "import os, sys, time, glob\n",
    "import matplotlib as mpl\n",
    "import matplotlib.pyplot as plt\n",
    "import numpy as np\n",
    "import pandas as pd\n",
    "import scipy as sp\n",
    "from scipy.io import wavfile\n",
    "from scipy import signal\n",
    "\n",
    "os.chdir('/Users/urai/Documents/code/ibllib')\n",
    "from python.alf.extractors.basic_trials import extract_trials"
   ]
  },
  {
   "cell_type": "code",
   "execution_count": 14,
   "metadata": {},
   "outputs": [],
   "source": [
    "datafolder = '/Users/urai/Data/ibldata/IBL_11/2018-10-16/9/'\n",
    "\n",
    "# extract behavioral events\n",
    "try:\n",
    "    extract_trials(datafolder)\n",
    "except:\n",
    "    pass"
   ]
  },
  {
   "cell_type": "code",
   "execution_count": null,
   "metadata": {},
   "outputs": [],
   "source": [
    "# LOAD SOUND FILE\n",
    "soundfile = os.path.join(datafolder, 'raw_behavior_data', '_ibl_micData.raw.wav')\n",
    "fs, data = wavfile.read(soundfile, mmap=False)\n",
    "print(data)"
   ]
  },
  {
   "cell_type": "code",
   "execution_count": null,
   "metadata": {},
   "outputs": [],
   "source": [
    "# take only a small part at the beginning of the session to keep things manageable\n",
    "data = data[0:fs*60] # one minute at 200 KHz\n",
    "\n",
    "t = np.linspace(0, len(data)/fs, num=len(data))\n",
    "# f, t, Sxx = signal.spectrogram(data, fsample)\n",
    "\n",
    "fig, (ax1, ax2) = plt.subplots(nrows=2)\n",
    "ax1.plot(t, data)\n",
    "ax1.set(ylabel=\"Audio signal (dB)\", title=datafolder)\n",
    "Pxx, freqs, bins, im = ax2.specgram(data, Fs=fs, noverlap=900)\n",
    "ax2.set(ylabel=\"Frequency (Hz)\", xlabel('Time (s)'))\n"
   ]
  }
 ],
 "metadata": {
  "kernelspec": {
   "display_name": "Python 3",
   "language": "python",
   "name": "python3"
  },
  "language_info": {
   "codemirror_mode": {
    "name": "ipython",
    "version": 3
   },
   "file_extension": ".py",
   "mimetype": "text/x-python",
   "name": "python",
   "nbconvert_exporter": "python",
   "pygments_lexer": "ipython3",
   "version": "3.6.6"
  }
 },
 "nbformat": 4,
 "nbformat_minor": 2
}
