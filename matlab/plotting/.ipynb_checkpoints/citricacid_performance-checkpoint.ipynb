{
 "cells": [
  {
   "cell_type": "code",
   "execution_count": 7,
   "metadata": {},
   "outputs": [
    {
     "ename": "ModuleNotFoundError",
     "evalue": "No module named 'datajoint'",
     "output_type": "error",
     "traceback": [
      "\u001b[0;31m---------------------------------------------------------------------------\u001b[0m",
      "\u001b[0;31mModuleNotFoundError\u001b[0m                       Traceback (most recent call last)",
      "\u001b[0;32m<ipython-input-7-c9510b4b89ed>\u001b[0m in \u001b[0;36m<module>\u001b[0;34m()\u001b[0m\n\u001b[1;32m     15\u001b[0m \u001b[0;34m\u001b[0m\u001b[0m\n\u001b[1;32m     16\u001b[0m \u001b[0;31m## CONNECT TO DJ\u001b[0m\u001b[0;34m\u001b[0m\u001b[0;34m\u001b[0m\u001b[0m\n\u001b[0;32m---> 17\u001b[0;31m \u001b[0;32mimport\u001b[0m \u001b[0mdatajoint\u001b[0m \u001b[0;32mas\u001b[0m \u001b[0mdj\u001b[0m\u001b[0;34m\u001b[0m\u001b[0m\n\u001b[0m\u001b[1;32m     18\u001b[0m \u001b[0;32mfrom\u001b[0m \u001b[0mibl_pipeline\u001b[0m \u001b[0;32mimport\u001b[0m \u001b[0mreference\u001b[0m\u001b[0;34m,\u001b[0m \u001b[0msubject\u001b[0m\u001b[0;34m,\u001b[0m \u001b[0maction\u001b[0m\u001b[0;34m,\u001b[0m \u001b[0macquisition\u001b[0m\u001b[0;34m,\u001b[0m \u001b[0mdata\u001b[0m\u001b[0;34m,\u001b[0m \u001b[0mbehavior\u001b[0m\u001b[0;34m\u001b[0m\u001b[0m\n",
      "\u001b[0;31mModuleNotFoundError\u001b[0m: No module named 'datajoint'"
     ]
    }
   ],
   "source": [
    "import time, re, datetime, os, glob\n",
    "from datetime import timedelta\n",
    "import seaborn as sns\n",
    "import pandas as pd\n",
    "import matplotlib as mpl\n",
    "import matplotlib.pyplot as plt\n",
    "import numpy as np\n",
    "import scipy as sp\n",
    "import pandas as pd\n",
    "from IPython import embed as shell\n",
    "\n",
    "## INITIALIZE A FEW THINGS\n",
    "sns.set_style(\"darkgrid\", {'xtick.bottom': True,'ytick.left': True, 'lines.markeredgewidth':0 } )\n",
    "sns.set_context(context=\"paper\")\n",
    "\n",
    "## CONNECT TO DJ\n",
    "import datajoint as dj\n",
    "from ibl_pipeline import reference, subject, action, acquisition, data, behavior\n"
   ]
  },
  {
   "cell_type": "code",
   "execution_count": 6,
   "metadata": {},
   "outputs": [
    {
     "name": "stdout",
     "output_type": "stream",
     "text": [
      "['example_CSHL1' 'IBL_1' 'IBL_10' 'IBL_11' 'IBL_12' 'IBL_13' 'IBL_14'\n",
      " 'IBL_15' 'IBL_16' 'IBL_17' 'IBL_18' 'IBL_19' 'IBL_2' 'IBL_20' 'IBL_21'\n",
      " 'IBL_22' 'IBL_23' 'IBL_24' 'IBL_25' 'IBL_26' 'IBL_27' 'IBL_28' 'IBL_29'\n",
      " 'IBL_3' 'IBL_30' 'IBL_31' 'IBL_32' 'IBL_33' 'IBL_34' 'IBL_35' 'IBL_36'\n",
      " 'IBL_37' 'IBL_38' 'IBL_39' 'IBL_4' 'IBL_40' 'IBL_41' 'IBL_42' 'IBL_43'\n",
      " 'IBL_44' 'IBL_45' 'IBL_46' 'IBL_47' 'IBL_5' 'IBL_6' 'IBL_7' 'IBL_8'\n",
      " 'IBL_9']\n"
     ]
    }
   ],
   "source": [
    "subjects = pd.DataFrame(one.alyx.get('/subjects?lab=zadorlab'))\n",
    "print(subjects['nickname'].unique())"
   ]
  },
  {
   "cell_type": "code",
   "execution_count": null,
   "metadata": {},
   "outputs": [],
   "source": []
  }
 ],
 "metadata": {
  "kernelspec": {
   "display_name": "Python 3",
   "language": "python",
   "name": "python3"
  },
  "language_info": {
   "codemirror_mode": {
    "name": "ipython",
    "version": 3
   },
   "file_extension": ".py",
   "mimetype": "text/x-python",
   "name": "python",
   "nbconvert_exporter": "python",
   "pygments_lexer": "ipython3",
   "version": "3.6.6"
  }
 },
 "nbformat": 4,
 "nbformat_minor": 2
}
